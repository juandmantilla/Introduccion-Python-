{
 "cells": [
  {
   "cell_type": "markdown",
   "metadata": {},
   "source": [
    "# Introducción a Python 3"
   ]
  },
  {
   "cell_type": "markdown",
   "metadata": {},
   "source": [
    "## Imprimir en pantalla"
   ]
  },
  {
   "cell_type": "code",
   "execution_count": 2,
   "metadata": {},
   "outputs": [
    {
     "name": "stdout",
     "output_type": "stream",
     "text": [
      "Esta es una prueba de mostrar en pantalla\n"
     ]
    }
   ],
   "source": [
    "#Inicialmente en python la esencia es la simplicidad del\n",
    "#codigo y las aplicaciones que usar\n",
    "#Un ejemplo basico es pintar en pantalla las diferentes variables\n",
    "#que se deseen o los diferentes texto\n",
    "\n",
    "#Use la palabra reservada print \"\" para mostrar en pantalla\n",
    "#Use print() para mostrar en pantalla una variable usada\n",
    "#Recuerde que los archivos debe guardarlos en formato .py\n",
    "\n",
    "#ejemplo\n",
    "\n",
    "print  (\"Esta es una prueba de mostrar en pantalla\")\n",
    "\n",
    "\n",
    "#Para mostrar en pantalla lo hecho anteriormente, use la tecla F5\n",
    "#en el editor de texto de Atom"
   ]
  },
  {
   "cell_type": "markdown",
   "metadata": {},
   "source": [
    "## Imprimir variable "
   ]
  },
  {
   "cell_type": "code",
   "execution_count": 3,
   "metadata": {},
   "outputs": [
    {
     "name": "stdout",
     "output_type": "stream",
     "text": [
      "Mi cadena de caracteres\n"
     ]
    }
   ],
   "source": [
    "#Para asignar a una variable una cadena de caracteres\n",
    "#Use una variable como referencia para que guarde la cadena\n",
    "#Llame por medio del metodo print a esta variable de la\n",
    "#siguiente forma\n",
    "\n",
    "miVariable = \"Mi cadena de caracteres\"\n",
    "print (miVariable)\n",
    "\n",
    "#Recuerde que si quiere ver los resultados solo debe\n",
    "#presione la tecla f5 en el entorno Atom\n"
   ]
  },
  {
   "cell_type": "markdown",
   "metadata": {},
   "source": [
    "## Operadores Matemáticos\n"
   ]
  },
  {
   "cell_type": "code",
   "execution_count": 6,
   "metadata": {},
   "outputs": [
    {
     "name": "stdout",
     "output_type": "stream",
     "text": [
      "----------- Suma -------------\n",
      "16\n",
      "----------modulo------------\n",
      "4\n",
      "---------- Exponente --------\n",
      "16777216\n",
      "---------- División entera --\n",
      "0\n"
     ]
    }
   ],
   "source": [
    "#Operaciones matematicas basicas\n",
    "\n",
    "#Para poder ejecutar diferentes Operaciones arimeticas en python\n",
    "#se usan las siguientes sintaxis\n",
    "\n",
    "#Para la suma\n",
    "#--- Use + para realizar la suma de dos o mas variables\n",
    "\n",
    "#Ejemplo\n",
    "\n",
    "variableA = 4\n",
    "variableB = 12\n",
    "suma = variableA + variableB\n",
    "print (\"----------- Suma -------------\")\n",
    "print (suma)\n",
    "\n",
    "#Para las operaciones como resta, multiplicacion, division se utilizan\n",
    "#- , * y / respectivamente. Use el ejemplo anterior como base\n",
    "\n",
    "#--- Para el modulo, el exponente, y la division entera Use\n",
    "# %, **, //\n",
    "\n",
    "#ejemplo\n",
    "\n",
    "variableA = 4\n",
    "variableB = 12\n",
    "modulo = variableA%variableB\n",
    "exponente = variableA**variableB\n",
    "divEntera = variableA//variableB\n",
    "\n",
    "print (\"----------modulo------------\")\n",
    "print (modulo)\n",
    "print (\"---------- Exponente --------\")\n",
    "print (exponente)\n",
    "print (\"---------- División entera --\")\n",
    "print (divEntera)"
   ]
  },
  {
   "cell_type": "markdown",
   "metadata": {},
   "source": [
    " ## Función predefinida Type"
   ]
  },
  {
   "cell_type": "code",
   "execution_count": 7,
   "metadata": {},
   "outputs": [
    {
     "name": "stdout",
     "output_type": "stream",
     "text": [
      "<class 'str'>\n"
     ]
    }
   ],
   "source": [
    "#Primera funcion predefinida\n",
    "#type() devuelve el tipo de variable\n",
    "#Conocer el tipo de variable que esta usando python\n",
    "#puede ser de ayuda para la correcion de problemas\n",
    "\n",
    "nombre = \"Juan David\"\n",
    "\n",
    "print (type(nombre))\n",
    "\n",
    "#Por lo general al \"compilar la anterior instruccion\"\n",
    "#debera aparecerle lo siguiente\n",
    "#  < type 'str'> esto indica que la variable la asume como un\n",
    "#string\n"
   ]
  },
  {
   "cell_type": "markdown",
   "metadata": {},
   "source": [
    "## Saltos de Línea"
   ]
  },
  {
   "cell_type": "code",
   "execution_count": 9,
   "metadata": {},
   "outputs": [
    {
     "name": "stdout",
     "output_type": "stream",
     "text": [
      "Esto es un\n",
      "texto\n",
      "con varios \n",
      "saltos\n"
     ]
    }
   ],
   "source": [
    "#Implentando saltos de linea\n",
    "\n",
    "#Para implementar saltos de linea en un string\n",
    "#use solamente tres comillas dobles\n",
    "\n",
    "#ejemplo\n",
    "\n",
    "print (\"\"\"Esto es un\n",
    "texto\n",
    "con varios \n",
    "saltos\"\"\")"
   ]
  },
  {
   "cell_type": "markdown",
   "metadata": {},
   "source": [
    "## Condicionadores o comparadores"
   ]
  },
  {
   "cell_type": "code",
   "execution_count": 10,
   "metadata": {},
   "outputs": [
    {
     "name": "stdout",
     "output_type": "stream",
     "text": [
      "a es diferente a b\n",
      "a es menor b\n",
      "a es menor o igual a b\n",
      "--------------------\n",
      "no son iguales\n"
     ]
    }
   ],
   "source": [
    "#Los metodos comparativos ayudan a crear sentencias y condiciones\n",
    "#Para la comparacion se usa para:\n",
    "\n",
    "#Igual que: ==\n",
    "#Mayor que: >\n",
    "#Mayor o igual que : >=\n",
    "#Diferente que: !=\n",
    "#Menor que : <\n",
    "#Menor igual que: <=\n",
    "\n",
    "a = 3\n",
    "b = 5\n",
    "\n",
    "#Use : para indicar lo que sigue al bloque If\n",
    "if a==b:\n",
    "    print (\"Son iguales\")\n",
    "if a>b:\n",
    "    print (\"a es mayor a b\")\n",
    "if a>=b:\n",
    "    print (\"a es mayor o igual a b\")\n",
    "if a!=b:\n",
    "    print (\"a es diferente a b\")\n",
    "if a<b:\n",
    "    print (\"a es menor b\")\n",
    "if a<=b:\n",
    "    print (\"a es menor o igual a b\")\n",
    "\n",
    "#Para agregar la sentencia else\n",
    "#use else:\n",
    "\n",
    "#Ejemplo\n",
    "\n",
    "print (\"--------------------\")\n",
    "if a==b:\n",
    "    print (\"son iguales\")\n",
    "else:\n",
    "    print (\"no son iguales\")"
   ]
  },
  {
   "cell_type": "markdown",
   "metadata": {},
   "source": [
    "## Definición de funciones"
   ]
  },
  {
   "cell_type": "code",
   "execution_count": 11,
   "metadata": {},
   "outputs": [
    {
     "name": "stdout",
     "output_type": "stream",
     "text": [
      "8\n"
     ]
    }
   ],
   "source": [
    "#Funciones o metodos son sinonimos en python son conceptos iguales\n",
    "\n",
    "#La idea es que una parte de codigo debe deolver o retornar un valor\n",
    "#determinado a partir de operaciones dentro de las Funciones\n",
    "\n",
    "#Use la palabra reservada def para definir la funcion, seguido de el nombre\n",
    "#de la funcion\n",
    "\n",
    "#ejemplo sintaxis de funcion suma\n",
    "#       def suma (valor1, valor2)\n",
    "#       return ( ---variable---)   ---> 'return' es opcional\n",
    "\n",
    "\n",
    "def suma(a,b):\n",
    "    sumando = a+b\n",
    "    return(sumando) # ---> Devuelva el valor de sumando\n",
    "total = suma(3,5) #---> Paso de parametros\n",
    "print(total)"
   ]
  },
  {
   "cell_type": "markdown",
   "metadata": {},
   "source": [
    "## Funciones con parámetros"
   ]
  },
  {
   "cell_type": "code",
   "execution_count": 13,
   "metadata": {},
   "outputs": [
    {
     "name": "stdout",
     "output_type": "stream",
     "text": [
      "Resultado multiplicar\n",
      "72\n"
     ]
    }
   ],
   "source": [
    "#Definicion de funciones con parametros\n",
    "#En el ejemplo anterior se mostro una funcion que recibia parametros\n",
    "#Esto ayuda a definir la funcion y a pasarle la cantidad de datos que\n",
    "#se quieran procesar\n",
    "\n",
    "def multiplicar(a,b,c,d):\n",
    "    resultado= a*b*c*d\n",
    "    return(resultado)\n",
    "print (\"Resultado multiplicar\")\n",
    "print (multiplicar(1,4,6,3))\n"
   ]
  },
  {
   "cell_type": "markdown",
   "metadata": {},
   "source": [
    "## Listas"
   ]
  },
  {
   "cell_type": "code",
   "execution_count": 14,
   "metadata": {},
   "outputs": [
    {
     "name": "stdout",
     "output_type": "stream",
     "text": [
      "-----Impresion de lista basica\n",
      "[22, 34, 342, 11, 56]\n",
      "------Elemento de lista en posicion 3\n",
      "11\n",
      "-------Ejemplo de posicion de lista negativa\n",
      "342\n",
      "----------Ejemplo de impresion de elemento usando rango de posiciones\n",
      "[22, 34, 342]\n",
      "----------Ejemplo de impresion de elementos en secuencia deseada\n",
      "[34, 342, 11]\n",
      "----------Ejemplo de impresion de elementos desde posicion deseada hasta final\n",
      "[34, 342, 11, 56]\n"
     ]
    }
   ],
   "source": [
    "#Listas, equivalente a los arreglos o vectores en otros lenguajes de\n",
    "#programacion\n",
    "\n",
    "\n",
    "#Para  la sintaxis de las listas es\n",
    "#nombreLista = [elem1,elemt2,elemt3,...]\n",
    "\n",
    "listaEjemplo = [22,34,342,11,56]\n",
    "\n",
    "#Ejemplo de impresion de Listas\n",
    "print (\"-----Impresion de lista basica\")\n",
    "print (listaEjemplo[:]) # ----> Imprime toda la listas\n",
    "\n",
    "print (\"------Elemento de lista en posicion 3\")\n",
    "#Ejemplo para acceder a elemento de listas\n",
    "print (listaEjemplo[3]) # ----> Imprime el tercer elemento\n",
    "\n",
    "#Ejemplo para acceder a elemento usando valor negativo\n",
    "#Python vuelva la lista y empieza a contar desde 1\n",
    "print (\"-------Ejemplo de posicion de lista negativa\")\n",
    "print (listaEjemplo[-3])\n",
    "\n",
    "#Para imprimir los elementos en secuencia de una lista use\n",
    "\n",
    "print (\"----------Ejemplo de impresion de elemento usando rango de posiciones\")\n",
    "print (listaEjemplo[0:3]) #Imprime los elementos que estan en las posicion 0 a la 3\n",
    "\n",
    "\n",
    "#Para acceder a elementos de lista desde las posicion de elementos deseados\n",
    "print (\"----------Ejemplo de impresion de elementos en secuencia deseada\")\n",
    "print (listaEjemplo[1:4]) #---->Imprime desde la posicion 2 hasta la posicion 5\n",
    "\n",
    "#Para acceder desde la posicion de un elemento hasta el final del arreglos\n",
    "#Solo use el siguiente Ejemplo\n",
    "\n",
    "print (\"----------Ejemplo de impresion de elementos desde posicion deseada hasta final\")\n",
    "print(listaEjemplo[1:]) #--->Imprime desde la posicion 1 hasta el ultimo elemento\n",
    "#del arreglo ..."
   ]
  },
  {
   "cell_type": "code",
   "execution_count": null,
   "metadata": {},
   "outputs": [],
   "source": []
  }
 ],
 "metadata": {
  "kernelspec": {
   "display_name": "Python 3",
   "language": "python",
   "name": "python3"
  },
  "language_info": {
   "codemirror_mode": {
    "name": "ipython",
    "version": 3
   },
   "file_extension": ".py",
   "mimetype": "text/x-python",
   "name": "python",
   "nbconvert_exporter": "python",
   "pygments_lexer": "ipython3",
   "version": "3.6.5"
  }
 },
 "nbformat": 4,
 "nbformat_minor": 2
}
