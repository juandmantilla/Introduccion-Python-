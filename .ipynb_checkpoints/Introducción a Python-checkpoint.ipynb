{
 "cells": [
  {
   "cell_type": "markdown",
   "metadata": {},
   "source": [
    "# Introducción a Python "
   ]
  },
  {
   "cell_type": "markdown",
   "metadata": {},
   "source": [
    "El lenguaje de programación Python actualmente es bastante usado para implementar soluciones de inteligencia artificial, análisis de datos, programas robutos dado a su gran versatilidad, comodidad y flexibilidad para escribir y ejecutar programas. Las ventajas de python con respecto a otros lenguajes de programación radica en su simplicidad para dar instrucciones, aspecto radicalmente diferente en otros lenguajes dada su estructura tipada, su complejidad y su curva de aprendizaje. Es por esto que este notebook es dedicado a explicar los conceptos básicos para iniciar con este gran lenguaje de programación. "
   ]
  },
  {
   "cell_type": "markdown",
   "metadata": {},
   "source": [
    "## Imprimir en pantalla"
   ]
  },
  {
   "cell_type": "markdown",
   "metadata": {},
   "source": [
    "Inicialmente en python la esencia es la simplicidad del codigo y su facilidad para entenderlo.\n",
    "Un ejemplo basico es mostrar en pantalla valores. Para ello puede usar la función **print()** en dónde ingresará un parámetro para que se muestre en pantalla, ya sea un valor numérico, de tipo boolean, cadena de caracteres, etc.\n",
    "\n",
    "Ejemplo:"
   ]
  },
  {
   "cell_type": "code",
   "execution_count": 1,
   "metadata": {},
   "outputs": [
    {
     "name": "stdout",
     "output_type": "stream",
     "text": [
      "Esta es una prueba de mostrar en pantalla\n"
     ]
    }
   ],
   "source": [
    "print  (\"Esta es una prueba de mostrar en pantalla\")\n",
    "\n",
    "#Para mostrar en pantalla lo hecho anteriormente, use la tecla F5\n",
    "#en el editor de texto de Atom o Shift - Enter si está en un entorno Jupyter Notebook."
   ]
  },
  {
   "cell_type": "markdown",
   "metadata": {},
   "source": [
    "## Imprimir variable "
   ]
  },
  {
   "cell_type": "markdown",
   "metadata": {},
   "source": [
    "Para asignar a una variable una cadena de caracteres ,use una variable como referencia para que guarde la cadena que desee.\n",
    "Llame por medio del metodo print a esta variable de la siguiente forma:"
   ]
  },
  {
   "cell_type": "code",
   "execution_count": 2,
   "metadata": {},
   "outputs": [
    {
     "name": "stdout",
     "output_type": "stream",
     "text": [
      "Mi cadena de caracteres\n"
     ]
    }
   ],
   "source": [
    "\n",
    "miVariable = \"Mi cadena de caracteres\"\n",
    "print (miVariable)\n",
    "\n",
    "#Recuerde que si quiere ver los resultados solo debe\n",
    "#presione la tecla f5 en el entorno Atom o Shift - Enter si está en un entorno Jupyter Notebook.\n"
   ]
  },
  {
   "cell_type": "markdown",
   "metadata": {},
   "source": [
    "## Operadores Matemáticos\n"
   ]
  },
  {
   "cell_type": "markdown",
   "metadata": {},
   "source": [
    "La operaciones matemáticas básicas en python funcionan igualmente que con los símbolos de una calculadora cualquiera (obviamente con algunas restricciones). Use la sintáxis de python de la siguiente forma:\n",
    "*  Para la suma use el símbolo \"+\".\n",
    "* Para la resta use el símbolo \"-\".\n",
    "* Para la multiplicación use el símbolo \"*\".\n",
    "* Para la división use el símbolo \"/\".\n",
    "* Para la potenciación use el símbolo \"a**b\", donde a es la base y b es el exponente.\n",
    "* Para hallar el módulo de una división use \"%\": El módulo es el valor residuo de una división.\n",
    "* Para hallar la divisón use el símbolo \"//\": La división entera es aquel valor entero del cociente."
   ]
  },
  {
   "cell_type": "code",
   "execution_count": null,
   "metadata": {},
   "outputs": [],
   "source": [
    "print(\"--------------SUMA-------------------\")\n",
    "a = 12\n",
    "b = 10\n",
    "suma = a + b\n",
    "print(suma)\n",
    "\n",
    "print(\"--------------RESTA-------------------\")\n",
    "a = 30\n",
    "b = 15\n",
    "resta = a-b\n",
    "print(resta)\n",
    "\n",
    "print(\"--------------MULTIPLICACIÓN-------------------\")\n",
    "a = 12\n",
    "b = 3\n",
    "mutiplicacion = a*b\n",
    "print(multiplicacion)\n",
    "\n",
    "print(\"--------------DIVISIÓN-------------------\")\n",
    "a = 10\n",
    "b = 5\n",
    "division = a/b\n",
    "print(division)\n",
    "\n",
    "print(\"--------------POTENCIACIÓN-------------------\")\n",
    "a = 2\n",
    "b = 5\n",
    "potencia = a**b\n",
    "print(potencia)\n",
    "\n",
    "print(\"--------------MÓDULO-------------------\")\n",
    "a = 12\n",
    "b = 4\n",
    "modulo = a % b\n",
    "print(modulo)\n",
    "\n",
    "print(\"--------------DIVISIÓN ENTERA-------------------\")\n",
    "a = 15\n",
    "b = 3\n",
    "divEntera = a//b\n",
    "print(divEntera)"
   ]
  },
  {
   "cell_type": "markdown",
   "metadata": {},
   "source": [
    " ## Función predefinida Type"
   ]
  },
  {
   "cell_type": "markdown",
   "metadata": {},
   "source": [
    "La función **type**, es aquella función que retorna el tipo de valor que se le esté indicando como parámetro. Esto es importante a la hora de saber qué tipo de dato estamos utilizando para algún cálculo e incluso es necesaria para la corrección de errores."
   ]
  },
  {
   "cell_type": "code",
   "execution_count": 4,
   "metadata": {},
   "outputs": [
    {
     "name": "stdout",
     "output_type": "stream",
     "text": [
      "<class 'str'>\n"
     ]
    }
   ],
   "source": [
    "nombre = \"Casa Lomares\"\n",
    "\n",
    "print (type(nombre))\n",
    "\n",
    "#Por lo general al \"compilar la anterior instruccion\"\n",
    "#debera aparecerle lo siguiente\n",
    "#  < type 'str'> esto indica que la variable la asume como un\n",
    "#string o cadena de caractéres\n"
   ]
  },
  {
   "cell_type": "markdown",
   "metadata": {},
   "source": [
    "## Saltos de Línea"
   ]
  },
  {
   "cell_type": "markdown",
   "metadata": {},
   "source": [
    "Los saltos de línea corresponden a espacios que se generan entre líneas, ésto para mejorar la legibilidad de un texto muy largo o para separar valores. Use 3 comillas dobles para realizar los saltos de línea que desee.\n"
   ]
  },
  {
   "cell_type": "code",
   "execution_count": 9,
   "metadata": {},
   "outputs": [
    {
     "name": "stdout",
     "output_type": "stream",
     "text": [
      "Esto es un\n",
      "texto\n",
      "con varios \n",
      "saltos\n"
     ]
    }
   ],
   "source": [
    "#Implentando saltos de linea\n",
    "\n",
    "#ejemplo\n",
    "\n",
    "print (\"\"\"Esto es un\n",
    "texto\n",
    "con varios \n",
    "saltos\"\"\")\n"
   ]
  },
  {
   "cell_type": "markdown",
   "metadata": {},
   "source": [
    "## Estructuras de control condicional"
   ]
  },
  {
   "cell_type": "markdown",
   "metadata": {},
   "source": [
    "Las estructuras de control son fundamentales para la buena ejecución de algoritmos ya que permiten controlar el flujo de procesos y definir la manera como se ejecuta el programa. La estructura de condición \"if\" en español \"si\" compara dos o más elementos y ejecuta una serie de instrucciones si se cumplen las comparaciones.\n",
    "\n",
    "Se puede comparar dos o más elementos usando los siguientes símbolos:\n",
    "\n",
    "* Igual que: ==\n",
    "* Mayor que: >\n",
    "* Mayor o igual que : >=\n",
    "* Diferente que: !=\n",
    "* Menor que : <\n",
    "* Menor igual que: <=\n",
    "\n",
    "A su vez la estructura de control \"else\" en español \"de lo contrario\" ejecuta una serie de instrucciones si no se cumple la comparación inicial \"if\". Otra variante de \"else\", también conocida como \"elif\" en español \"de lo contrario si\", ejecuta la comparación de elementos y la serie de instrucciones que se indique.\n"
   ]
  },
  {
   "cell_type": "code",
   "execution_count": 11,
   "metadata": {},
   "outputs": [
    {
     "name": "stdout",
     "output_type": "stream",
     "text": [
      "a es diferente a b\n",
      "a es menor b\n",
      "a es menor o igual a b\n",
      "--------------------\n",
      "no son iguales\n",
      "Son números negativos\n"
     ]
    }
   ],
   "source": [
    "a = 3\n",
    "b = 5\n",
    "\n",
    "# Use : para indicar el bloque de ejecución de la estructura if correspondiente.\n",
    "if a == b:\n",
    "    print (\"Son iguales\")\n",
    "    \n",
    "if a > b:\n",
    "    print (\"a es mayor a b\")\n",
    "    \n",
    "if a >= b:\n",
    "    print (\"a es mayor o igual a b\")\n",
    "    \n",
    "if a != b:\n",
    "    print (\"a es diferente a b\")\n",
    "    \n",
    "if a < b:\n",
    "    print (\"a es menor b\")\n",
    "    \n",
    "if a <= b:\n",
    "    print (\"a es menor o igual a b\")\n",
    "\n",
    "# Para agregar la sentencia else\n",
    "# use else:\n",
    "\n",
    "#Ejemplo\n",
    "print (\"--------------------\")\n",
    "\n",
    "if a==b:\n",
    "    print (\"son iguales\")\n",
    "    \n",
    "else:\n",
    "    print (\"no son iguales\")\n",
    "    \n",
    "    \n",
    "# Para agregar la sentencia elif\n",
    "# use elif: \n",
    "\n",
    "#Ejemplo\n",
    "if a == b:\n",
    "    print(\"son iguales\")\n",
    "    \n",
    "elif (a - b) <= 0 :\n",
    "    print(\"Son números negativos\")"
   ]
  },
  {
   "cell_type": "markdown",
   "metadata": {},
   "source": [
    "## Definición de funciones"
   ]
  },
  {
   "cell_type": "markdown",
   "metadata": {},
   "source": [
    "Las funciones son soluciones a un problema que posiblemente se necesiten resolver muchas veces. Los beneficios de usar \n",
    "funciones es evitar repetir código innecesariamente. Use la palabra \"def\" seguido del nombre de la función y entre paréntesis\n",
    "los parámetros o valores que tomará la función para ejecutarse, por último especifique la o las salidas que retornará la función. De la siguiente forma:"
   ]
  },
  {
   "cell_type": "code",
   "execution_count": 15,
   "metadata": {},
   "outputs": [
    {
     "name": "stdout",
     "output_type": "stream",
     "text": [
      "La suma de 3 y de 5 es : 8\n"
     ]
    }
   ],
   "source": [
    "#ejemplo sintaxis de funcion suma\n",
    "#       def suma (valor1, valor2)\n",
    "#       return ( ---variable---)   ---> 'return' es opcional\n",
    "\n",
    "\n",
    "def suma(a,b):\n",
    "    \n",
    "    suma = a + b\n",
    "    \n",
    "    return \"La suma de \" + str(a) + \" y de \" +str(b) + \" es : \"+ str(suma) # ---> Devuelva el valor de sumando\n",
    "\n",
    "total = suma(3,5) #---> Paso de parametros\n",
    "\n",
    "print(total)"
   ]
  },
  {
   "cell_type": "markdown",
   "metadata": {},
   "source": [
    "## Funciones con parámetros"
   ]
  },
  {
   "cell_type": "code",
   "execution_count": 13,
   "metadata": {},
   "outputs": [
    {
     "name": "stdout",
     "output_type": "stream",
     "text": [
      "Resultado multiplicar\n",
      "72\n"
     ]
    }
   ],
   "source": [
    "#Definicion de funciones con parametros\n",
    "#En el ejemplo anterior se mostro una funcion que recibia parametros\n",
    "#Esto ayuda a definir la funcion y a pasarle la cantidad de datos que\n",
    "#se quieran procesar\n",
    "\n",
    "def multiplicar(a,b,c,d):\n",
    "    resultado= a*b*c*d\n",
    "    return(resultado)\n",
    "print (\"Resultado multiplicar\")\n",
    "print (multiplicar(1,4,6,3))\n"
   ]
  },
  {
   "cell_type": "markdown",
   "metadata": {},
   "source": [
    "## Listas"
   ]
  },
  {
   "cell_type": "code",
   "execution_count": 14,
   "metadata": {},
   "outputs": [
    {
     "name": "stdout",
     "output_type": "stream",
     "text": [
      "-----Impresion de lista basica\n",
      "[22, 34, 342, 11, 56]\n",
      "------Elemento de lista en posicion 3\n",
      "11\n",
      "-------Ejemplo de posicion de lista negativa\n",
      "342\n",
      "----------Ejemplo de impresion de elemento usando rango de posiciones\n",
      "[22, 34, 342]\n",
      "----------Ejemplo de impresion de elementos en secuencia deseada\n",
      "[34, 342, 11]\n",
      "----------Ejemplo de impresion de elementos desde posicion deseada hasta final\n",
      "[34, 342, 11, 56]\n"
     ]
    }
   ],
   "source": [
    "#Listas, equivalente a los arreglos o vectores en otros lenguajes de\n",
    "#programacion\n",
    "\n",
    "\n",
    "#Para  la sintaxis de las listas es\n",
    "#nombreLista = [elem1,elemt2,elemt3,...]\n",
    "\n",
    "listaEjemplo = [22,34,342,11,56]\n",
    "\n",
    "#Ejemplo de impresion de Listas\n",
    "print (\"-----Impresion de lista basica\")\n",
    "print (listaEjemplo[:]) # ----> Imprime toda la listas\n",
    "\n",
    "print (\"------Elemento de lista en posicion 3\")\n",
    "#Ejemplo para acceder a elemento de listas\n",
    "print (listaEjemplo[3]) # ----> Imprime el tercer elemento\n",
    "\n",
    "#Ejemplo para acceder a elemento usando valor negativo\n",
    "#Python vuelva la lista y empieza a contar desde 1\n",
    "print (\"-------Ejemplo de posicion de lista negativa\")\n",
    "print (listaEjemplo[-3])\n",
    "\n",
    "#Para imprimir los elementos en secuencia de una lista use\n",
    "\n",
    "print (\"----------Ejemplo de impresion de elemento usando rango de posiciones\")\n",
    "print (listaEjemplo[0:3]) #Imprime los elementos que estan en las posicion 0 a la 3\n",
    "\n",
    "\n",
    "#Para acceder a elementos de lista desde las posicion de elementos deseados\n",
    "print (\"----------Ejemplo de impresion de elementos en secuencia deseada\")\n",
    "print (listaEjemplo[1:4]) #---->Imprime desde la posicion 2 hasta la posicion 5\n",
    "\n",
    "#Para acceder desde la posicion de un elemento hasta el final del arreglos\n",
    "#Solo use el siguiente Ejemplo\n",
    "\n",
    "print (\"----------Ejemplo de impresion de elementos desde posicion deseada hasta final\")\n",
    "print(listaEjemplo[1:]) #--->Imprime desde la posicion 1 hasta el ultimo elemento\n",
    "#del arreglo ..."
   ]
  },
  {
   "cell_type": "code",
   "execution_count": null,
   "metadata": {},
   "outputs": [],
   "source": []
  }
 ],
 "metadata": {
  "kernelspec": {
   "display_name": "Python 3",
   "language": "python",
   "name": "python3"
  },
  "language_info": {
   "codemirror_mode": {
    "name": "ipython",
    "version": 3
   },
   "file_extension": ".py",
   "mimetype": "text/x-python",
   "name": "python",
   "nbconvert_exporter": "python",
   "pygments_lexer": "ipython3",
   "version": "3.8.3"
  }
 },
 "nbformat": 4,
 "nbformat_minor": 2
}
