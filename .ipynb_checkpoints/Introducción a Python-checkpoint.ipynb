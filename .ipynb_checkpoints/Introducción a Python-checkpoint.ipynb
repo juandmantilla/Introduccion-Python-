{
 "cells": [
  {
   "cell_type": "markdown",
   "metadata": {},
   "source": [
    "# Introducción a Python "
   ]
  },
  {
   "cell_type": "markdown",
   "metadata": {},
   "source": [
    "El lenguaje de programación Python actualmente es bastante usado para implementar; soluciones de inteligencia artificial, análisis de datos, programas robutos dado a su gran versatilidad, comodidad y flexibilidad para escribir y ejecutar programas. Las ventajas de python con respecto a otros lenguajes de programación radica en su simplicidad para dar instrucciones, aspecto radicalmente diferente en otros lenguajes dada su estructura tipada, su complejidad y su curva de aprendizaje. Es por esto que este notebook es dedicado a explicar los conceptos básicos para iniciar con este gran lenguaje de programación. "
   ]
  },
  {
   "cell_type": "markdown",
   "metadata": {},
   "source": [
    "## Imprimir en pantalla"
   ]
  },
  {
   "cell_type": "markdown",
   "metadata": {},
   "source": [
    "Inicialmente en python la esencia es la simplicidad del codigo y su facilidad para entenderlo.\n",
    "Un ejemplo basico es mostrar en pantalla valores. Para ello puede usar la función **print()** en dónde ingresará un parámetro para que se muestre en pantalla, ya sea un valor numérico, de tipo boolean, cadena de caracteres, etc.\n",
    "\n",
    "Ejemplo:"
   ]
  },
  {
   "cell_type": "code",
   "execution_count": 1,
   "metadata": {},
   "outputs": [
    {
     "name": "stdout",
     "output_type": "stream",
     "text": [
      "Esta es una prueba de mostrar en pantalla\n"
     ]
    }
   ],
   "source": [
    "print  (\"Esta es una prueba de mostrar en pantalla\")\n",
    "\n",
    "#Para mostrar en pantalla lo hecho anteriormente, use la tecla F5\n",
    "#en el editor de texto de Atom o Shift - Enter si está en un entorno Jupyter Notebook."
   ]
  },
  {
   "cell_type": "markdown",
   "metadata": {},
   "source": [
    "## Imprimir variable "
   ]
  },
  {
   "cell_type": "markdown",
   "metadata": {},
   "source": [
    "Para asignar a una variable una cadena de caracteres ,use una variable como referencia para que guarde la cadena que desee.\n",
    "Llame por medio del metodo print a esta variable de la siguiente forma:"
   ]
  },
  {
   "cell_type": "code",
   "execution_count": 2,
   "metadata": {},
   "outputs": [
    {
     "name": "stdout",
     "output_type": "stream",
     "text": [
      "Mi cadena de caracteres\n"
     ]
    }
   ],
   "source": [
    "\n",
    "miVariable = \"Mi cadena de caracteres\"\n",
    "print (miVariable)\n",
    "\n",
    "#Recuerde que si quiere ver los resultados solo debe\n",
    "#presione la tecla f5 en el entorno Atom o Shift - Enter si está en un entorno Jupyter Notebook.\n"
   ]
  },
  {
   "cell_type": "markdown",
   "metadata": {},
   "source": [
    "## Operadores Matemáticos\n"
   ]
  },
  {
   "cell_type": "markdown",
   "metadata": {},
   "source": [
    "La operaciones matemáticas básicas en python funcionan igualmente que con los símbolos de una calculadora cualquiera (obviamente con algunas restricciones). Use la sintáxis de python de la siguiente forma:\n",
    "*  Para la suma use el símbolo \"+\".\n",
    "* Para la resta use el símbolo \"-\".\n",
    "* Para la multiplicación use el símbolo \"*\".\n",
    "* Para la división use el símbolo \"/\".\n",
    "* Para la potenciación use el símbolo \"a**b\", donde a es la base y b es el exponente.\n",
    "* Para hallar el módulo de una división use \"%\": El módulo es el valor residuo de una división.\n",
    "* Para hallar la divisón use el símbolo \"//\": La división entera es aquel valor entero del cociente."
   ]
  },
  {
   "cell_type": "code",
   "execution_count": null,
   "metadata": {},
   "outputs": [],
   "source": [
    "print(\"--------------SUMA-------------------\")\n",
    "a = 12\n",
    "b = 10\n",
    "suma = a + b\n",
    "print(suma)\n",
    "\n",
    "print(\"--------------RESTA-------------------\")\n",
    "a = 30\n",
    "b = 15\n",
    "resta = a-b\n",
    "print(resta)\n",
    "\n",
    "print(\"--------------MULTIPLICACIÓN-------------------\")\n",
    "a = 12\n",
    "b = 3\n",
    "mutiplicacion = a*b\n",
    "print(multiplicacion)\n",
    "\n",
    "print(\"--------------DIVISIÓN-------------------\")\n",
    "a = 10\n",
    "b = 5\n",
    "division = a/b\n",
    "print(division)\n",
    "\n",
    "print(\"--------------POTENCIACIÓN-------------------\")\n",
    "a = 2\n",
    "b = 5\n",
    "potencia = a**b\n",
    "print(potencia)\n",
    "\n",
    "print(\"--------------MÓDULO-------------------\")\n",
    "a = 12\n",
    "b = 4\n",
    "modulo = a % b\n",
    "print(modulo)\n",
    "\n",
    "print(\"--------------DIVISIÓN ENTERA-------------------\")\n",
    "a = 15\n",
    "b = 3\n",
    "divEntera = a//b\n",
    "print(divEntera)"
   ]
  },
  {
   "cell_type": "markdown",
   "metadata": {},
   "source": [
    " ## Función predefinida Type"
   ]
  },
  {
   "cell_type": "markdown",
   "metadata": {},
   "source": [
    "La función **type**, es aquella función que retorna el tipo de valor que se le esté indicando como parámetro. Esto es importante a la hora de saber qué tipo de dato estamos utilizando para algún cálculo e incluso es necesaria para la corrección de errores."
   ]
  },
  {
   "cell_type": "code",
   "execution_count": 4,
   "metadata": {},
   "outputs": [
    {
     "name": "stdout",
     "output_type": "stream",
     "text": [
      "<class 'str'>\n"
     ]
    }
   ],
   "source": [
    "nombre = \"Casa Lomares\"\n",
    "\n",
    "print (type(nombre))\n",
    "\n",
    "#Por lo general al \"compilar la anterior instruccion\"\n",
    "#debera aparecerle lo siguiente\n",
    "#  < type 'str'> esto indica que la variable la asume como un\n",
    "#string o cadena de caractéres\n"
   ]
  },
  {
   "cell_type": "markdown",
   "metadata": {},
   "source": [
    "## Saltos de Línea"
   ]
  },
  {
   "cell_type": "markdown",
   "metadata": {},
   "source": [
    "Los saltos de línea corresponden a espacios que se generan entre líneas, ésto para mejorar la legibilidad de un texto muy largo o para separar valores. Use 3 comillas dobles para realizar los saltos de línea que desee.\n"
   ]
  },
  {
   "cell_type": "code",
   "execution_count": 9,
   "metadata": {},
   "outputs": [
    {
     "name": "stdout",
     "output_type": "stream",
     "text": [
      "Esto es un\n",
      "texto\n",
      "con varios \n",
      "saltos\n"
     ]
    }
   ],
   "source": [
    "#Implentando saltos de linea\n",
    "\n",
    "#ejemplo\n",
    "\n",
    "print (\"\"\"Esto es un\n",
    "texto\n",
    "con varios \n",
    "saltos\"\"\")\n"
   ]
  },
  {
   "cell_type": "markdown",
   "metadata": {},
   "source": [
    "## Estructuras de control condicional"
   ]
  },
  {
   "cell_type": "markdown",
   "metadata": {},
   "source": [
    "Las estructuras de control son fundamentales para la buena ejecución de algoritmos ya que permiten controlar el flujo de procesos y definir la manera como se ejecuta el programa. La estructura de condición \"if\" en español \"si\" compara dos o más elementos y ejecuta una serie de instrucciones si se cumplen las comparaciones.\n",
    "\n",
    "Se puede comparar dos o más elementos usando los siguientes símbolos:\n",
    "\n",
    "* Igual que: ==\n",
    "* Mayor que: >\n",
    "* Mayor o igual que : >=\n",
    "* Diferente que: !=\n",
    "* Menor que : <\n",
    "* Menor igual que: <=\n",
    "\n",
    "A su vez la estructura de control \"else\" en español \"de lo contrario\" ejecuta una serie de instrucciones si no se cumple la comparación inicial \"if\". Otra variante de \"else\", también conocida como \"elif\" en español \"de lo contrario si\", ejecuta la comparación de elementos y la serie de instrucciones que se indique.\n"
   ]
  },
  {
   "cell_type": "code",
   "execution_count": 11,
   "metadata": {},
   "outputs": [
    {
     "name": "stdout",
     "output_type": "stream",
     "text": [
      "a es diferente a b\n",
      "a es menor b\n",
      "a es menor o igual a b\n",
      "--------------------\n",
      "no son iguales\n",
      "Son números negativos\n"
     ]
    }
   ],
   "source": [
    "a = 3\n",
    "b = 5\n",
    "\n",
    "# Use : para indicar el bloque de ejecución de la estructura if correspondiente.\n",
    "if a == b:\n",
    "    print (\"Son iguales\")\n",
    "    \n",
    "if a > b:\n",
    "    print (\"a es mayor a b\")\n",
    "    \n",
    "if a >= b:\n",
    "    print (\"a es mayor o igual a b\")\n",
    "    \n",
    "if a != b:\n",
    "    print (\"a es diferente a b\")\n",
    "    \n",
    "if a < b:\n",
    "    print (\"a es menor b\")\n",
    "    \n",
    "if a <= b:\n",
    "    print (\"a es menor o igual a b\")\n",
    "\n",
    "# Para agregar la sentencia else\n",
    "# use else:\n",
    "\n",
    "#Ejemplo\n",
    "print (\"--------------------\")\n",
    "\n",
    "if a==b:\n",
    "    print (\"son iguales\")\n",
    "    \n",
    "else:\n",
    "    print (\"no son iguales\")\n",
    "    \n",
    "    \n",
    "# Para agregar la sentencia elif\n",
    "# use elif: \n",
    "\n",
    "#Ejemplo\n",
    "if a == b:\n",
    "    print(\"son iguales\")\n",
    "    \n",
    "elif (a - b) <= 0 :\n",
    "    print(\"Son números negativos\")"
   ]
  },
  {
   "cell_type": "markdown",
   "metadata": {},
   "source": [
    "## Definición de funciones"
   ]
  },
  {
   "cell_type": "markdown",
   "metadata": {},
   "source": [
    "Las funciones son soluciones a un problema que posiblemente se necesiten resolver muchas veces. Los beneficios de usar \n",
    "funciones es evitar repetir código innecesariamente. Use la palabra \"def\" seguido del nombre de la función y entre paréntesis\n",
    "los parámetros o valores que tomará la función para ejecutarse, por último especifique la o las salidas que retornará la función.\n",
    "\n",
    "Para ejecutar la función sólo debe llamarla por su nombre en otra línea de código junto con sus respectivos parámetros (si los tiene)."
   ]
  },
  {
   "cell_type": "code",
   "execution_count": 16,
   "metadata": {},
   "outputs": [
    {
     "name": "stdout",
     "output_type": "stream",
     "text": [
      "La suma de 3 y de 5 es : 8\n"
     ]
    }
   ],
   "source": [
    "#ejemplo sintaxis de funcion suma\n",
    "#       def suma (valor1, valor2)\n",
    "#       return ( ---variable---)   ---> 'return' es opcional\n",
    "\n",
    "\n",
    "def suma(a,b):\n",
    "    \n",
    "    suma = a + b\n",
    "    \n",
    "    return \"La suma de \" + str(a) + \" y de \" +str(b) + \" es : \"+ str(suma) # ---> Devuelve el valor de la variable suma\n",
    "\n",
    "total = suma(3,5) #---> Paso de parametros\n",
    "\n",
    "print(total)"
   ]
  },
  {
   "cell_type": "markdown",
   "metadata": {},
   "source": [
    "### Funciones con parámetros"
   ]
  },
  {
   "cell_type": "code",
   "execution_count": 13,
   "metadata": {},
   "outputs": [
    {
     "name": "stdout",
     "output_type": "stream",
     "text": [
      "Resultado multiplicar\n",
      "72\n"
     ]
    }
   ],
   "source": [
    "#Definición de funciones con parámetros\n",
    "#En el ejemplo anterior se mostro una funcion que recibia parámetros\n",
    "#Esto ayuda a definir la función y a pasarle la cantidad de datos que\n",
    "#se quieran procesar\n",
    "\n",
    "def multiplicar( a, b, c, d):\n",
    "    \n",
    "    resultado = a*b*c*d\n",
    "    \n",
    "    return(resultado)\n",
    "\n",
    "print (\"Resultado multiplicar\")\n",
    "\n",
    "print (multiplicar( 1, 4, 6, 3))\n"
   ]
  },
  {
   "cell_type": "markdown",
   "metadata": {},
   "source": [
    "## Listas"
   ]
  },
  {
   "cell_type": "markdown",
   "metadata": {},
   "source": [
    "Las listas en python son una estructura de valores diseñada para almacenar múltiples datos en diferentes posiciones consecutivas. En python se pueden usar las listas de forma dinámica, esto quiere decir que la cantidad de valores puede aumentar o disminuir durante la ejecución del programa.\n",
    "\n",
    "Otro aspecto fundamental de las listas es el valor de índice, éste indica en qué posición de la lista se encuentra un valor determinado.\n"
   ]
  },
  {
   "cell_type": "code",
   "execution_count": 26,
   "metadata": {},
   "outputs": [
    {
     "name": "stdout",
     "output_type": "stream",
     "text": [
      "----------Impresion de lista basica----------\n",
      "[22, 34, 342, 11, 56, 23, 14, 161, 33, 53]\n",
      "----------Elemento de lista en posicion 3----------\n",
      "11\n",
      "----------Ejemplo de posicion de lista negativa----------\n",
      "161\n",
      "----------Ejemplo de impresion de elemento usando rango de posiciones----------\n",
      "[22, 34, 342]\n",
      "----------Ejemplo de impresion de elementos en secuencia deseada----------\n",
      "[34, 342, 11]\n",
      "----------Ejemplo de impresion de elementos desde posicion deseada hasta final----------\n",
      "[34, 342, 11, 56, 23, 14, 161, 33, 53]\n"
     ]
    }
   ],
   "source": [
    "#Listas, equivalente a los arreglos o vectores en otros lenguajes de\n",
    "#programacion\n",
    "\n",
    "#Para  la sintaxis de las listas es\n",
    "#nombreLista = [elem1,elemt2,elemt3,...]\n",
    "\n",
    "listaEjemplo = [22,34,342,11,56,23,14,161,33,53]\n",
    "\n",
    "#Ejemplo de impresion de Listas\n",
    "print (\"----------Impresion de lista basica----------\")\n",
    "print (listaEjemplo[:]) # ----> Imprime toda la listas con el argumento \":\" dentro de los corchetes []\n",
    "\n",
    "\n",
    "print (\"----------Elemento de lista en posicion 3----------\")\n",
    "#Ejemplo para acceder a elemento de listas\n",
    "print (listaEjemplo[3]) # ----> Imprime el tercer elemento de la lista\n",
    "\n",
    "\n",
    "#Ejemplo para acceder a elemento usando valor negativo (-3).\n",
    "#Esto significa que se retornará el antepenúltimo elemento, es decir 3 posiciones atrás del último elemento.\n",
    "print (\"----------Ejemplo de posicion de lista negativa----------\")\n",
    "print (listaEjemplo[-3])\n",
    "\n",
    "\n",
    "#Para imprimir los elementos en secuencia de una lista use\n",
    "print (\"----------Ejemplo de impresion de elemento usando rango de posiciones----------\")\n",
    "print (listaEjemplo[0:3]) #Imprime los elementos que estan en las posicion 0 a la 3\n",
    "\n",
    "\n",
    "#Para acceder a elementos de lista desde las posicion de elementos deseados\n",
    "print (\"----------Ejemplo de impresion de elementos en secuencia deseada----------\")\n",
    "print (listaEjemplo[1:4]) #---->Imprime desde la posicion 2 hasta la posicion 5\n",
    "\n",
    "#Para acceder desde la posicion de un elemento hasta el final del arreglos\n",
    "#Solo use el siguiente Ejemplo\n",
    "\n",
    "print (\"----------Ejemplo de impresion de elementos desde posicion deseada hasta final----------\")\n",
    "print(listaEjemplo[1:]) #--->Imprime desde la posicion 1 hasta el ultimo elemento\n",
    "#del arreglo ..."
   ]
  },
  {
   "cell_type": "markdown",
   "metadata": {},
   "source": [
    "### Adición y eliminación de elementos a una lista\n",
    "* Para agregar un elemento a una lista use el método _**append(valor)**_.\n",
    "* Para eliminar un elemento de la lista use el método _**remove(valor)**_ "
   ]
  },
  {
   "cell_type": "code",
   "execution_count": 32,
   "metadata": {},
   "outputs": [
    {
     "name": "stdout",
     "output_type": "stream",
     "text": [
      "[1, 4, 5, 23, 6, 1, 4, 7, 2, 7, 3, 15, 14, 33, 34, 14, 15]\n",
      "-----------------------------\n",
      "[1, 4, 5, 23, 6, 1, 4, 7, 2, 7, 3, 15, 33, 34, 14, 15]\n"
     ]
    }
   ],
   "source": [
    "listaEjemplo = [1, 4, 5, 23, 6, 1, 4, 7, 2, 7, 3, 15, 14, 33, 34, 14]\n",
    "\n",
    "# Agrega el valor 15 a la última posición de la lista\n",
    "listaEjemplo.append(15)\n",
    "print(listaEjemplo)\n",
    "\n",
    "print(\"-----------------------------\")\n",
    "\n",
    "#Elimina el valor 14 de la lista\n",
    "listaEjemplo.remove(14)\n",
    "print(listaEjemplo)"
   ]
  },
  {
   "cell_type": "markdown",
   "metadata": {},
   "source": [
    "### Listas con diferentes tipos de valores\n",
    "\n",
    "Las listas tienen la capacidad de almacenar valores de diferentes tipos de datos, es decir, puede almacenar valores enteros (int) como punto flotante (float) e incluso bool (True - False) y cadena de caracteres (string)."
   ]
  },
  {
   "cell_type": "code",
   "execution_count": 33,
   "metadata": {},
   "outputs": [
    {
     "name": "stdout",
     "output_type": "stream",
     "text": [
      "[True, 1, 2, 3.343, 4, 5, 2.009343, 'Hola', 'String']\n"
     ]
    }
   ],
   "source": [
    "listaEjemplo = [True, 1, 2, 3.343, 4, 5, 2.009343, \"Hola\", \"String\" ]\n",
    "\n",
    "print(listaEjemplo)"
   ]
  },
  {
   "cell_type": "markdown",
   "metadata": {},
   "source": [
    "## Tuplas\n",
    "\n",
    "Similares a las listas, pero con la gran diferencia que no cambian durante la ejecución del programa y son mucho más rápidas. Se reconocen a las tuplas porque los valores son contenidos entre paréntesis y porque los métodos son bastante limitados comparados a los métodos de las listas."
   ]
  },
  {
   "cell_type": "code",
   "execution_count": 2,
   "metadata": {},
   "outputs": [
    {
     "name": "stdout",
     "output_type": "stream",
     "text": [
      "(1, 2, 3, 'Gárgola', 1.9, True, False, 'A') <class 'tuple'>\n"
     ]
    }
   ],
   "source": [
    "miTupla = (1, 2, 3, \"Gárgola\", 1.900, True, False, \"A\")\n",
    "print(miTupla, type(miTupla))"
   ]
  },
  {
   "cell_type": "markdown",
   "metadata": {},
   "source": [
    "### Cómo convertir tuplas en listas y visceversa?\n",
    "\n",
    "* Para transformar la tupla en lista se debe aplicar el método list()\n",
    "* Para transformar la lista en tupla se debe aplicar el método tuple()"
   ]
  },
  {
   "cell_type": "code",
   "execution_count": 6,
   "metadata": {},
   "outputs": [
    {
     "name": "stdout",
     "output_type": "stream",
     "text": [
      "[1, 2, 3, 'Gárgola', 1.9, True, False, 'A'] <class 'list'>\n",
      "(2, 6, 7, 'Mercedes', 'Gloria', True, False, 9.0223) <class 'tuple'>\n"
     ]
    }
   ],
   "source": [
    "# Tupla a lista\n",
    "miTupla = (1, 2, 3, \"Gárgola\", 1.900, True, False, \"A\")\n",
    "\n",
    "miLista = list(miTupla)\n",
    "\n",
    "print(miLista, type(miLista))\n",
    "\n",
    "\n",
    "#Lista a tupla\n",
    "miLista = [2, 6, 7, \"Mercedes\", \"Gloria\", True, False, 9.0223]\n",
    "miTupla = tuple(miLista)\n",
    "print(miTupla, type(miTupla))\n"
   ]
  },
  {
   "cell_type": "markdown",
   "metadata": {},
   "source": [
    "### Extraer en variables los valores presentes en una tupla y lista\n",
    "\n",
    "Se pueden asignar los valores en orden de una tupla a un conjunto de variables. Python tiene la versatilidad de asociar cada valor ordenado en la tupla como las variables ordenadas que se indiquen."
   ]
  },
  {
   "cell_type": "code",
   "execution_count": 10,
   "metadata": {},
   "outputs": [
    {
     "name": "stdout",
     "output_type": "stream",
     "text": [
      "Juan Mantilla 1996 7 7\n",
      "Kim Walker 1985 12 7\n"
     ]
    }
   ],
   "source": [
    "# Tupla\n",
    "miTupla = (\"Juan\", \"Mantilla\", 1996, 7, 7)\n",
    "nombre, apellido, anioNacimiento, mesNacimiento, diaNacimiento = miTupla\n",
    "\n",
    "print(nombre, apellido, anioNacimiento, mesNacimiento, diaNacimiento)\n",
    "\n",
    "# Lista\n",
    "miLista = [\"Kim\", \"Walker\", 1985, 12, 7]\n",
    "\n",
    "nombre, apellido, anioNacimiento, mesNacimiento, diaNacimiento = miLista\n",
    "\n",
    "print(nombre, apellido, anioNacimiento, mesNacimiento, diaNacimiento)\n",
    "\n",
    "\n"
   ]
  },
  {
   "cell_type": "markdown",
   "metadata": {},
   "source": [
    "## Diccionarios\n",
    "\n",
    "Los diccionarios son otra forma de organizar valores en una estructura predefinida, la gran diferencia que radica con las listas y las tuplas es la necesidad de recurrir a una clave y a su vez ésta referencia a un valor o estrucura de datos específico. Por ejemplo:\n",
    "\n",
    "{clave : valor}\n",
    "\n",
    "miDiccionario = {\"Nombre\" : \"Juan\"}"
   ]
  },
  {
   "cell_type": "code",
   "execution_count": 15,
   "metadata": {},
   "outputs": [
    {
     "name": "stdout",
     "output_type": "stream",
     "text": [
      "Adam Wilkerson\n",
      "[2.5, 3.4, 4.5]\n"
     ]
    }
   ],
   "source": [
    "\n",
    "miDiccionario = {\"Nombre\": \"Adam Wilkerson\", \"Edad\": 34, \"Promedio Ponderado\": 4.5, \"Notas corte\": [2.5, 3.4, 4.5]}\n",
    "\n",
    "print(miDiccionario[\"Nombre\"])\n",
    "print(miDiccionario[\"Notas corte\"])"
   ]
  },
  {
   "cell_type": "markdown",
   "metadata": {},
   "source": [
    "### Conocer las llaves y los valores asociados a las llaves.\n",
    "Para conocer los valores llaves o claves de los diccionarios use el método keys()\n"
   ]
  },
  {
   "cell_type": "code",
   "execution_count": 19,
   "metadata": {},
   "outputs": [
    {
     "name": "stdout",
     "output_type": "stream",
     "text": [
      "dict_keys(['Colombia', 'Francia', 'Bolivia'])\n",
      "dict_values(['Bogotá', 'París', 'La Paz'])\n"
     ]
    }
   ],
   "source": [
    "# Llaves\n",
    "miDiccionario = {\"Colombia\": \"Bogotá\", \"Francia\": \"París\", \"Bolivia\": \"La Paz\"}\n",
    "\n",
    "claves = miDiccionario.keys()\n",
    "\n",
    "print(claves)\n",
    "\n",
    "# Valores asociados a las llaves\n",
    "valores = miDiccionario.values()\n",
    "\n",
    "print(valores)"
   ]
  },
  {
   "cell_type": "markdown",
   "metadata": {},
   "source": [
    "## Ciclos\n",
    "Los ciclos son parte fundamental en la resolución de problemas ya que permiten repetir una serie de instrucciones que así lo requiera. El ciclo for son ciclos con una cantidad de iteraciones definidas. El ciclo while es un bucle con una cantidad de iteraciones que dependen de alguna condición que se cumpla.\n",
    "\n",
    "Un ejemplo práctico es pensar en contar números de forma secuencial por medio de ambos ciclos, el primero se le indicará la cantidad de pasos que desee contar y el segundo evaluará una condición para conocer si ha llegado al límite usando un contador que aumenta a causa de la cantidad de iteraciones. Ejemplo de contar los números del 1 al 10.\n"
   ]
  },
  {
   "cell_type": "code",
   "execution_count": 1,
   "metadata": {},
   "outputs": [
    {
     "name": "stdout",
     "output_type": "stream",
     "text": [
      "------------CICLO FOR----------------\n",
      "1\n",
      "2\n",
      "3\n",
      "4\n",
      "5\n",
      "6\n",
      "7\n",
      "8\n",
      "9\n",
      "10\n",
      "------------CICLO WILE----------------\n",
      "0\n",
      "1\n",
      "2\n",
      "3\n",
      "4\n",
      "5\n",
      "6\n",
      "7\n",
      "8\n",
      "9\n",
      "10\n"
     ]
    }
   ],
   "source": [
    "# Ciclo for de 0 hasta 10\n",
    "print(\"------------CICLO FOR----------------\") \n",
    "for i in range(1, 11):\n",
    "    print(i)\n",
    "\n",
    "print(\"------------CICLO WILE----------------\")    \n",
    "i = 0\n",
    "while(i <= 10):\n",
    "    print(i)\n",
    "    i = i + 1\n",
    "    "
   ]
  },
  {
   "cell_type": "markdown",
   "metadata": {},
   "source": [
    "### Ciclos con saltos.\n",
    "Puede indicar la cantidad de saltos que desee en el contador del ciclo. En lugar de iterar uno por uno lo puede hacer con saltos de 2, 3, ..., n saltos. De la siguiente forma:\n"
   ]
  },
  {
   "cell_type": "code",
   "execution_count": 13,
   "metadata": {},
   "outputs": [
    {
     "name": "stdout",
     "output_type": "stream",
     "text": [
      "Valor del contador : 5\n",
      "Valor del contador : 15\n",
      "Valor del contador : 25\n",
      "Valor del contador : 35\n",
      "Valor del contador : 45\n",
      "Valor del contador : 55\n",
      "Valor del contador : 65\n",
      "Valor del contador : 75\n",
      "Valor del contador : 85\n",
      "Valor del contador : 95\n"
     ]
    }
   ],
   "source": [
    "for i in range(5, 100, 10):  # <---- Iterador de 10 en 10.\n",
    "    print(\"Valor del contador : \" + str(i))"
   ]
  },
  {
   "cell_type": "markdown",
   "metadata": {},
   "source": [
    "### Los ciclos que nunca terminan.\n",
    "Cuando se desarrollan programas o soluciones parciales de dicho programa hay que tener siempre en cuenta cómo se comportan los ciclos durante su ejecución y asegurarse que tengan un fin. Es por esto que los ciclos while requieren cuidado al escribirse, ya que siempre se debe tener una salida a este ciclo si se queda allí indefinidamente. "
   ]
  },
  {
   "cell_type": "code",
   "execution_count": 31,
   "metadata": {
    "scrolled": true
   },
   "outputs": [
    {
     "ename": "KeyboardInterrupt",
     "evalue": "",
     "output_type": "error",
     "traceback": [
      "\u001b[1;31m---------------------------------------------------------------------------\u001b[0m",
      "\u001b[1;31mKeyboardInterrupt\u001b[0m                         Traceback (most recent call last)",
      "\u001b[1;32m<ipython-input-31-daf5f6009622>\u001b[0m in \u001b[0;36m<module>\u001b[1;34m\u001b[0m\n\u001b[0;32m      4\u001b[0m \u001b[1;32mwhile\u001b[0m\u001b[1;33m(\u001b[0m\u001b[1;32mTrue\u001b[0m\u001b[1;33m)\u001b[0m\u001b[1;33m:\u001b[0m\u001b[1;33m\u001b[0m\u001b[1;33m\u001b[0m\u001b[0m\n\u001b[0;32m      5\u001b[0m     \u001b[0mi\u001b[0m \u001b[1;33m=\u001b[0m \u001b[0mi\u001b[0m \u001b[1;33m+\u001b[0m \u001b[1;36m1\u001b[0m\u001b[1;33m\u001b[0m\u001b[1;33m\u001b[0m\u001b[0m\n\u001b[1;32m----> 6\u001b[1;33m     \u001b[0mprint\u001b[0m\u001b[1;33m(\u001b[0m\u001b[1;34m\"Iteración \"\u001b[0m \u001b[1;33m+\u001b[0m \u001b[0mstr\u001b[0m\u001b[1;33m(\u001b[0m\u001b[0mi\u001b[0m\u001b[1;33m)\u001b[0m\u001b[1;33m)\u001b[0m\u001b[1;33m\u001b[0m\u001b[1;33m\u001b[0m\u001b[0m\n\u001b[0m\u001b[0;32m      7\u001b[0m \u001b[1;33m\u001b[0m\u001b[0m\n",
      "\u001b[1;31mKeyboardInterrupt\u001b[0m: "
     ]
    }
   ],
   "source": [
    "%%capture\n",
    "\n",
    "# Ejemplo de ciclo infinito o indefinido.\n",
    "# Puede detener la ejecución de este bloque directamente desde el botón Stop del notebook\n",
    "i = 0\n",
    "while(True):\n",
    "    i = i + 1\n",
    "    print(\"Iteración \" + str(i))\n",
    "    "
   ]
  },
  {
   "cell_type": "markdown",
   "metadata": {},
   "source": [
    "### Controlando las iteraciones que parecen infinitas\n",
    "Para ello se necesita una estructura de control que evalúe el número de iteraciones y obligue a salir del ciclo. Use la palabra reservada break para indicar una interrupción en la ejecución de un bucle."
   ]
  },
  {
   "cell_type": "code",
   "execution_count": 2,
   "metadata": {},
   "outputs": [
    {
     "name": "stdout",
     "output_type": "stream",
     "text": [
      "Iteración 1\n",
      "Iteración 2\n",
      "Iteración 3\n",
      "Iteración 4\n",
      "Iteración 5\n",
      "Iteración 6\n",
      "Iteración 7\n",
      "Iteración 8\n",
      "Iteración 9\n",
      "Iteración 10\n",
      "Iteración 11\n",
      "Iteración 12\n",
      "Iteración 13\n",
      "Iteración 14\n",
      "Iteración 15\n",
      "Iteración 16\n",
      "Iteración 17\n",
      "Iteración 18\n",
      "Iteración 19\n",
      "Iteración 20\n",
      "Iteración 21\n",
      "Iteración 22\n",
      "Iteración 23\n",
      "Iteración 24\n",
      "Iteración 25\n",
      "Obligar a salir de bucle\n"
     ]
    }
   ],
   "source": [
    "# Ejemplo de ciclo infinito o indefinido.\n",
    "# Puede detener la ejecución de este bloque directamente desde el botón Stop del notebook\n",
    "i = 0\n",
    "while(True):\n",
    "    i = i + 1\n",
    "    print(\"Iteración \" + str(i))\n",
    "    \n",
    "    if(i >= 25):\n",
    "        print(\"Obligar a salir de bucle\")\n",
    "        break\n",
    "        "
   ]
  },
  {
   "cell_type": "markdown",
   "metadata": {},
   "source": [
    "### Usando las listas como operador iterador\n",
    "\n",
    "Se puden usar diferentes tipos de operadores para ejecutar los ciclos. Puede usar las listas como operador iterador de la siguiente manera"
   ]
  },
  {
   "cell_type": "code",
   "execution_count": 20,
   "metadata": {},
   "outputs": [
    {
     "name": "stdout",
     "output_type": "stream",
     "text": [
      "Dagombas\n",
      "Guerra\n",
      "Somos\n",
      "La sombra\n",
      "Hijos\n"
     ]
    }
   ],
   "source": [
    "miLista = [\"Dagombas\", \"Guerra\", \"Somos\", \"La sombra\", \"Hijos\"]\n",
    "\n",
    "for i in miLista:\n",
    "    print(i)"
   ]
  },
  {
   "cell_type": "markdown",
   "metadata": {},
   "source": [
    "### Usando las cadenas de caracteres como operador iterador\n",
    "\n",
    "También puede usar cadenas de caracteres para que un ciclo u bucle recorra dicha cadena. Estas soluciones son aptas cuando se requiere obtener un caracter o símbolo específico y retornarlo o guardarlo en una variable."
   ]
  },
  {
   "cell_type": "code",
   "execution_count": 29,
   "metadata": {},
   "outputs": [
    {
     "name": "stdout",
     "output_type": "stream",
     "text": [
      "C\n",
      "a\n",
      "d\n",
      "e\n",
      "n\n",
      "a\n",
      " \n",
      "I\n",
      "t\n",
      "e\n",
      "r\n",
      "a\n",
      "d\n",
      "a\n"
     ]
    }
   ],
   "source": [
    "for i in \"Cadena Iterada\":\n",
    "    print(i)\n",
    "    \n"
   ]
  },
  {
   "cell_type": "markdown",
   "metadata": {},
   "source": [
    "### Notación especial\n",
    "Puede usar la siguiente notación para referenciar la salida de un ciclo o función. Dentro de la función print use el caracter f seguido de una cadena de caracteres y dentro de ella haga referencia a la variable que desee mostrar. Como en el siguiente ejemplo."
   ]
  },
  {
   "cell_type": "code",
   "execution_count": 8,
   "metadata": {},
   "outputs": [
    {
     "name": "stdout",
     "output_type": "stream",
     "text": [
      "Valor contador : 0\n",
      "Valor contador : 1\n",
      "Valor contador : 2\n",
      "Valor contador : 3\n",
      "Valor contador : 4\n"
     ]
    }
   ],
   "source": [
    "for i in range(5):\n",
    "    print(f\"Valor contador : {i}\") # <----------"
   ]
  },
  {
   "cell_type": "code",
   "execution_count": null,
   "metadata": {},
   "outputs": [],
   "source": []
  }
 ],
 "metadata": {
  "kernelspec": {
   "display_name": "Python 3",
   "language": "python",
   "name": "python3"
  },
  "language_info": {
   "codemirror_mode": {
    "name": "ipython",
    "version": 3
   },
   "file_extension": ".py",
   "mimetype": "text/x-python",
   "name": "python",
   "nbconvert_exporter": "python",
   "pygments_lexer": "ipython3",
   "version": "3.8.3"
  }
 },
 "nbformat": 4,
 "nbformat_minor": 2
}
