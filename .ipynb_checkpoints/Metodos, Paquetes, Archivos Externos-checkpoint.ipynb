{
 "cells": [
  {
   "cell_type": "markdown",
   "metadata": {},
   "source": [
    "# Métodos, Paquetes y Archivos Externos\n",
    "\n",
    "Este cuarderno contendrá métodos necesarios para manejar cadenas de caracteres, paquetes y archivos externos que se llegasen a necesitar en los programas."
   ]
  },
  {
   "cell_type": "markdown",
   "metadata": {},
   "source": [
    "## Métodos para transformar las cadenas de caracteres\n",
    "\n",
    "Los métodos en las cadenas de caracteres son bastante importantes para controlar dicha cadena y cómo ingresa en los métodos, funciones, etc. Es por esto que se usan métodos como lower() y upper() que son métodos para transformar una cadena en minúscula y en mayúscula respectivamente.\n",
    "\n",
    "Más adelante se verán muchos más métodos que transforman estas cadenas de caracteres."
   ]
  },
  {
   "cell_type": "code",
   "execution_count": 25,
   "metadata": {},
   "outputs": [
    {
     "name": "stdout",
     "output_type": "stream",
     "text": [
      "MI NOMBRE ES JOSE LUIS GARCIA Y ESTE ES UN POEMA RECITADO EN BARCELONA\n",
      "mi nombre es jose luis garcia y este es un poema recitado en barcelona\n",
      "Mi nombre es jose luis garcia y este es un poema recitado en barcelona\n",
      "6\n",
      "13\n",
      "False\n",
      "False\n",
      "False\n",
      "['MI', 'nombre', 'es', 'Jose', 'Luis', 'Garcia', 'y', 'este', 'es', 'un', 'poema', 'recitado', 'en', 'Barcelona']\n",
      "MI nombre es Jose Luis Gercie y este es un poeme recitedo en Bercelone\n"
     ]
    }
   ],
   "source": [
    "entrada = \"MI nombre es Jose Luis Garcia y este es un poema recitado en Barcelona\"\n",
    "\n",
    "print(entrada.upper())      #<--- Mayúsculas\n",
    "print(entrada.lower())      #<--- Minúsculas\n",
    "print(entrada.capitalize()) #<--- Mayúscula en la primera letra de la cadena\n",
    "print(entrada.count(\"a\"))   #<--- Cuenta la cantidad de caracteres que se especifique en el método\n",
    "print(entrada.find(\"J\"))    #<--- Retorna la posición donde se encuentre el caracter. Usa la cadena como\n",
    "                            #     un arreglo de caracteres en donde cada posición del arreglo existe un caracter de la cadena\n",
    "    \n",
    "print(entrada.isdigit())    #<--- Valida si la cadena es de sólo 1 caracter.\n",
    "print(entrada.isalnum())    #<--- Retorna si la cadena tiene caracteres alfanuméricos \n",
    "print(entrada.isalpha())    #<--- Comprueba si la cadena está compuesta por caracteres alfabéticos.\n",
    "\n",
    "print(entrada.split())      #<--- Divide por palabras la cadena de caracteres.\n",
    "print(entrada.replace(\"a\", \"e\")) #<--- Reemplaza el caracter indicado por otro. Reemplace la letra a por la e.\n"
   ]
  },
  {
   "cell_type": "code",
   "execution_count": null,
   "metadata": {},
   "outputs": [],
   "source": []
  },
  {
   "cell_type": "code",
   "execution_count": null,
   "metadata": {},
   "outputs": [],
   "source": []
  }
 ],
 "metadata": {
  "kernelspec": {
   "display_name": "Python 3",
   "language": "python",
   "name": "python3"
  },
  "language_info": {
   "codemirror_mode": {
    "name": "ipython",
    "version": 3
   },
   "file_extension": ".py",
   "mimetype": "text/x-python",
   "name": "python",
   "nbconvert_exporter": "python",
   "pygments_lexer": "ipython3",
   "version": "3.8.3"
  }
 },
 "nbformat": 4,
 "nbformat_minor": 4
}
