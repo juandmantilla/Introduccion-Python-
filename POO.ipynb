{
 "cells": [
  {
   "cell_type": "markdown",
   "metadata": {},
   "source": [
    "# Programación Orientado a Objetos\n",
    "\n",
    "POO por sus siglas es un paradigma de programación la cual se basa en estructurar elementos, o de otra manera, objetos de la vida real en un programa, obteniendo de ellos características representativas y que son útiles para la resolución de problemas.\n",
    "\n",
    "Un ejemplo básico es el objeto auto. Los autos pueden ser de diferentes fabricantes, colores, motor, etc. El objeto auto en la programación obtendrá estas propiedades (atributos) del mundo real junto con sus posibles comportamientos (métodos).\n",
    "\n",
    "Las ventajas del paradigma de programación orientada a objetos.\n",
    "* Capacidad de reutilizar código\n",
    "* Modularización (segmentación de código en partes fundamentales)\n",
    "* Mejor escritura de código\n"
   ]
  },
  {
   "cell_type": "markdown",
   "metadata": {},
   "source": [
    "## El concepto de Clase\n",
    "Una clase representa a un objeto, pero la clase funciona como un molde para crear distintos objetos pero con los mismos atributos y métodos que la rigen. Por ejemplo, de la clase Auto se pueden obtener dos objetos diferentes, el primero tendrá el color rojo en el chasis y dos puertas, y el segundo tendrá color azul en el chasis y 4 puertas.\n",
    "\n",
    "Como se había mencionado, a partir de la clase se pueden generar muchos objetos pertenecientes a dicha clase, por lo que se puede representar, a través de los objetos, problemas de la vida real."
   ]
  },
  {
   "cell_type": "code",
   "execution_count": 7,
   "metadata": {},
   "outputs": [
    {
     "name": "stdout",
     "output_type": "stream",
     "text": [
      "El color del auto es Negro con altura 1.6 y cilindraje de 20 Caballos\n"
     ]
    }
   ],
   "source": [
    "\n",
    "class Auto():  # <--- Las clases se nombran como. class seguido del nombre de la clase.\n",
    "    \n",
    "    #---------- Atributos de la clase --------\n",
    "    \n",
    "    color =  \"Negro\"\n",
    "    altura = 1.60\n",
    "    cilindraje = \"20 Caballos\"\n",
    "    numRuedas = 4\n",
    "    marca = \"Chevrolet\"\n",
    "    modelo = \"Spark Gt 2020\"\n",
    "    \n",
    "    # ----------------------------------------\n",
    "    \n",
    "    \n",
    "    #----------- Método de la clase ----------\n",
    "    # El o los métodos de la clase permiten al objeto realizar acciones u operaciones explícitas en la clase que lo contenga. \n",
    "    # A diferencia de las funciones, los métodos solo existen en las clases y sólo pueden ser accedidos por objetos intanciados\n",
    "    # de dicha clase. En cambio las funciones pueden ser llamadas o accedidas desde cualquier parte del programa.\n",
    "    \n",
    "    def encender(self):\n",
    "        pass\n",
    "    \n",
    "    #-----------------------------------------\n",
    "        \n",
    "\n",
    "miAuto = Auto()\n",
    "print(\"El color del auto es \" + miAuto.color + \" con altura \" + str(miAuto.altura) + \" y cilindraje de \" +  miAuto.cilindraje)"
   ]
  },
  {
   "cell_type": "markdown",
   "metadata": {},
   "source": [
    "## Generalizando la Clase\n",
    "Como se pudo observar la clase generará objetos Auto con los mismos atributos. Para cambiar esto se recurre a un método de la clase llamado Constructor, éste método se encarga de inicializar el objeto con los parámetros que se indiquen para su creación. \n",
    "\n",
    "Los constructores en python tiene la palabra reservada __init__. Con ella se especifica que los parámetros que sean otorgados al constructor sean los que inicialicen los atributos de la instancia.\n"
   ]
  },
  {
   "cell_type": "code",
   "execution_count": 1,
   "metadata": {},
   "outputs": [
    {
     "name": "stdout",
     "output_type": "stream",
     "text": [
      "El color es Rojo la altura es 1.6 la marca es Ford el modelo es Gta - 2005. Y el auto está en modo : Apagado\n"
     ]
    }
   ],
   "source": [
    "class Auto():\n",
    "        \n",
    "    def __init__(self, color, altura, cilindraje, numRuedas, marca, modelo):\n",
    "        self.color = color\n",
    "        self.altura = altura\n",
    "        self.cilindraje = cilindraje\n",
    "        self.numRuedas = numRuedas\n",
    "        self.marca = marca\n",
    "        self.modelo = modelo\n",
    "        self.encendido = False\n",
    "        \n",
    "    def encender (self, enceder):\n",
    "        if(self.encendido == False):\n",
    "            self.encendido = True\n",
    "            \n",
    "            \n",
    "    def conocerEstadoAuto(self):\n",
    "        if(self.encendido == False):\n",
    "            return \"Apagado\"\n",
    "        else:\n",
    "            return \"Encendido\"\n",
    "\n",
    "auto1 = Auto(\"Rojo\", 1.60, \"5 caballos\", 4, \"Ford\", \"Gta - 2005\")\n",
    "\n",
    "\n",
    "print(\"El color es \" + auto1.color + \" la altura es \" + str(auto1.altura) + \" la marca es \" + auto1.marca+\n",
    "     \" el modelo es \" + auto1.modelo + \". Y el auto está en modo : \" + auto1.conocerEstadoAuto())"
   ]
  },
  {
   "cell_type": "markdown",
   "metadata": {},
   "source": [
    "## Encapsulamiento de atributos.\n",
    "\n",
    "Encapsular los atributos de una clase corresponde a proteger el estado de dicho atributo a cambios que puedan realizarse desde otras clases. Use los simbolos __ precedidos del nombre del atributo para indicar que será encapsulado y será protegido contra cambios externos, sin embargo este atributo será accesible desde la clase que lo contenga.\n",
    "\n",
    "Para cambiar el estado de los atributos se deben crear métodos los cuales realicen los cambios que se deseen.\n"
   ]
  },
  {
   "cell_type": "code",
   "execution_count": 10,
   "metadata": {},
   "outputs": [
    {
     "ename": "AttributeError",
     "evalue": "'Auto' object has no attribute '__marca'",
     "output_type": "error",
     "traceback": [
      "\u001b[1;31m---------------------------------------------------------------------------\u001b[0m",
      "\u001b[1;31mAttributeError\u001b[0m                            Traceback (most recent call last)",
      "\u001b[1;32m<ipython-input-10-88122312b7cf>\u001b[0m in \u001b[0;36m<module>\u001b[1;34m\u001b[0m\n\u001b[0;32m     18\u001b[0m \u001b[0mauto\u001b[0m \u001b[1;33m=\u001b[0m \u001b[0mAuto\u001b[0m\u001b[1;33m(\u001b[0m\u001b[1;34m\"Rojo\"\u001b[0m\u001b[1;33m,\u001b[0m \u001b[1;34m\"Renault\"\u001b[0m\u001b[1;33m,\u001b[0m \u001b[1;34m\"Clio 2002\"\u001b[0m\u001b[1;33m)\u001b[0m\u001b[1;33m\u001b[0m\u001b[1;33m\u001b[0m\u001b[0m\n\u001b[0;32m     19\u001b[0m \u001b[1;33m\u001b[0m\u001b[0m\n\u001b[1;32m---> 20\u001b[1;33m \u001b[0mmodelo\u001b[0m \u001b[1;33m=\u001b[0m \u001b[0mauto\u001b[0m\u001b[1;33m.\u001b[0m\u001b[0m__marca\u001b[0m \u001b[1;31m#<--- Intentando acceder al atributo marca de la clase. Generará un error de atributo\u001b[0m\u001b[1;33m\u001b[0m\u001b[1;33m\u001b[0m\u001b[0m\n\u001b[0m",
      "\u001b[1;31mAttributeError\u001b[0m: 'Auto' object has no attribute '__marca'"
     ]
    }
   ],
   "source": [
    "class Auto():\n",
    "    \n",
    "    def __init__(self, color, marca, modelo):\n",
    "        self.color = color\n",
    "        self.__marca = marca # <--- Especifice el encapsulamiento con __ precedido del nombre del atributo de la clase\n",
    "        self.__modelo = modelo\n",
    "        \n",
    "    def cambiarColor(self, color):\n",
    "        if(color != self.color):\n",
    "            self.color = color\n",
    "    \n",
    "    def cambiarMarca(self, marca):\n",
    "        self.__marca = marca #<--- Referencie también el encapsulamiento en el resto de la clase en donde sea utilizado el atributo\n",
    "    \n",
    "    def cambiarModelo(self, modelo):\n",
    "        self.__modelo = modelo\n",
    "\n",
    "auto = Auto(\"Rojo\", \"Renault\", \"Clio 2002\")\n",
    "\n",
    "modelo = auto.__marca #<--- Intentando acceder al atributo marca de la clase. Generará un error de atributo"
   ]
  },
  {
   "cell_type": "markdown",
   "metadata": {},
   "source": [
    "### Cambiando el estado o valores de los atributos a través de métodos\n",
    "\n",
    "Puede cambiar los valores de los atributos a través de métodos que puedan ser accedidos fuera de la clase. Este tipo de encapsulamiento en la práctica es muy necesario e importante, ya que evita que el programa obtenga un estado indeseado y provoque un fallo."
   ]
  },
  {
   "cell_type": "code",
   "execution_count": 15,
   "metadata": {},
   "outputs": [
    {
     "name": "stdout",
     "output_type": "stream",
     "text": [
      "El auto es de color : Azul oceáno. Con marca : Porsche con modelo 911\n"
     ]
    }
   ],
   "source": [
    "class Auto():\n",
    "    \n",
    "    def __init__(self, color, marca, modelo):\n",
    "        self.__color = color\n",
    "        self.__marca = marca\n",
    "        self.__modelo = modelo\n",
    "        \n",
    "    def obtenerColor(self):\n",
    "        return self.__color\n",
    "    \n",
    "    def obtenerMarca(self):\n",
    "        return self.__marca\n",
    "    \n",
    "    def obtenerModelo(self):\n",
    "        return self.__modelo\n",
    "        \n",
    "    def cambiarColor(self, color):\n",
    "        self.__color = color\n",
    "    \n",
    "    def cambiarMarca(self, marca):\n",
    "        self.__marca = marca \n",
    "    \n",
    "    def cambiarModelo(self, modelo):\n",
    "        self.__modelo = modelo\n",
    "\n",
    "auto = Auto(\"Azul oceáno\", \"Porsche\", \"911\")\n",
    "\n",
    "print(\"El auto es de color : \" + auto.obtenerColor() + \". Con marca : \" \n",
    "      + auto.obtenerMarca() + \" con modelo \"+ auto.obtenerModelo())"
   ]
  },
  {
   "cell_type": "markdown",
   "metadata": {},
   "source": [
    "## Encapsulamiento de métodos\n",
    "\n",
    "Como se vió en el encapsulamiento de atributos y su aplicabilidad también se puede realizar encapsulamiento de métodos. Realizar un encapsulamiento de métodos asegura que otras clases no puedan acceder a ciertas funcionalidades importantes de la clase que intentan acceder. Por ello éstos métodos son únicamente accedidos desde los mismos métodos de la clase que los contenga.\n",
    "\n",
    "Para referenciar un método encapsulado incluya los símbolos __ precedido del nombre del método. Llame al método con esta misma estructura."
   ]
  },
  {
   "cell_type": "code",
   "execution_count": 39,
   "metadata": {},
   "outputs": [
    {
     "name": "stdout",
     "output_type": "stream",
     "text": [
      "El auto de marca Renault  con color Verde esmeralda y modelo Logan tiene un costo de :1988291.67\n",
      "-----------------\n",
      "El auto de marca Ford  con color Negro mate y modelo Lxt-mfg tiene un costo de : 2759884.62\n"
     ]
    }
   ],
   "source": [
    "class Auto():\n",
    "    \n",
    "    def __init__(self, color, marca, modelo, anioModelo, tasaInflacion):\n",
    "        self.__color = color  # <--- Atributo encapsulado\n",
    "        self.__marca = marca\n",
    "        self.__modelo = modelo\n",
    "        self.anioModelo = anioModelo\n",
    "        self.tasaInflacion = tasaInflacion\n",
    "        \n",
    "    def obtenerColor(self):\n",
    "        return self.__color\n",
    "    \n",
    "    def obtenerMarca(self):\n",
    "        return self.__marca\n",
    "    \n",
    "    def obtenerModelo(self):\n",
    "        return self.__modelo\n",
    "        \n",
    "    def cambiarColor(self, color):\n",
    "        self.__color = color\n",
    "    \n",
    "    def cambiarMarca(self, marca):\n",
    "        self.__marca = marca \n",
    "    \n",
    "    def cambiarModelo(self, modelo):\n",
    "        self.__modelo = modelo\n",
    "        \n",
    "    def __costoAuto(self):   #<--- Método encapsulado\n",
    "        \n",
    "        if(self.__marca == \"Renault\"  and (self.anioModelo <= 2010)):\n",
    "            costo = (self.anioModelo * self.tasaInflacion)/0.3600\n",
    "            return costo\n",
    "            \n",
    "        elif(self.__marca == \" Renault\" and (anioModelo > 2010)):\n",
    "            costo = (self.anioModelo * self.tasaInflacion)/0.4600\n",
    "            return costo\n",
    "        elif( self.__marca != \"Renault\"):\n",
    "            costo = (self.anioModelo * self.tasaInflacion)/0.2600\n",
    "            return costo\n",
    "    \n",
    "    def retornarCostoAuto(self):\n",
    "        x = self.__costoAuto()\n",
    "        \n",
    "        costo = (x + x*0.19)*10000\n",
    "        \n",
    "        return costo\n",
    "    \n",
    "    \n",
    "auto = Auto(\"Verde esmeralda\", \"Renault\", \"Logan\", 2005, 0.03)\n",
    "auto2 = Auto(\"Negro mate\", \"Ford\", \"Lxt-mfg\", 2010, 0.03)\n",
    "\n",
    "costoAuto1 = round(auto.retornarCostoAuto(), 2 )\n",
    "costoAuto2 = round(auto2.retornarCostoAuto(), 2)\n",
    "\n",
    "print(\"El auto de marca \" + auto.obtenerMarca() + \"  con color \" + auto.obtenerColor() + \" y modelo \" + auto.obtenerModelo() +\n",
    "     \" tiene un costo de :\" + str(costoAuto1))\n",
    "    \n",
    "print(\"-----------------\")\n",
    "\n",
    "print(\"El auto de marca \" + auto2.obtenerMarca() + \"  con color \" + auto2.obtenerColor() + \" y modelo \" \n",
    "      + auto2.obtenerModelo() + \" tiene un costo de : \" + str(costoAuto2))\n",
    "        \n",
    "        \n",
    "        "
   ]
  },
  {
   "cell_type": "markdown",
   "metadata": {},
   "source": [
    "# Herencia en python\n",
    "La herencia permite el traslado de atributos y métodos de una clase principal hacia sus clases hijas. El ejemplo más común es la jerarquía en un núcleo familiar, en ella el padre y la madre serán Superclases en las cuales las clases Hijos heredadas (subclases) tendrán acceso a los mismos atributos y métodos de la superclase.\n",
    "\n",
    "La herencia es pensada para suplir la necesidad de que existan objetos similares o con características parecidas. Como lo es la superclase Vehículo, ésta puede tener subclases ya sea Auto, Bus, Motocicleta, Furgón, Camión, etc. Y la superclase Vehículo tendrá atributos como puede ser el nivel de gasolina, cantidad de ruedas, tipo de combustible, modelo, marca, etc; mismos atributos que tendrán las clases hijas.\n",
    "\n",
    "En la herencia los métodos también pueden ser heredados, esto implica que un mismo método puede ser usado por diferentes subclases y que estas a su vez requieran una implementación diferente para dicho método. O bien puede ser que el método sea el mismo para las demás subclases."
   ]
  },
  {
   "cell_type": "code",
   "execution_count": 21,
   "metadata": {},
   "outputs": [
    {
     "name": "stdout",
     "output_type": "stream",
     "text": [
      "La marca de la motocicleta es Yamaha\n"
     ]
    },
    {
     "data": {
      "text/plain": [
       "0"
      ]
     },
     "execution_count": 21,
     "metadata": {},
     "output_type": "execute_result"
    }
   ],
   "source": [
    "#-----------------------SUPERCLASE-------------------\n",
    "class Vehiculo():\n",
    "    \n",
    "    def __init__ (self, marca, modelo):\n",
    "        self.marca = marca\n",
    "        self.modelo = modelo\n",
    "        self.encendido = False # <--- Objeto creado será apagado inicialmente.\n",
    "        self.acelerar = False\n",
    "        self.nivelGasolina = 0\n",
    "        \n",
    "    def encender(self):\n",
    "        self.encendido = True\n",
    "        \n",
    "    def acelerar(self):\n",
    "        self.acelerar = True\n",
    "        \n",
    "    def obtenerMarca(self):\n",
    "        return self.marca\n",
    "    \n",
    "    def obtenerModelo(self):\n",
    "        return self.modelo\n",
    "    \n",
    "    def mostrarModelo(self):\n",
    "        print(\"El modelo del vehiculo : \" + str(self.modelo))\n",
    "    \n",
    "    def obtenerMarca(self):\n",
    "        print(\"La marca de la motocicleta es \" + str(self.marca))\n",
    "\n",
    "    \n",
    "# ---------------------- SUBCLASE ------------------       \n",
    "class Moto(Vehiculo):\n",
    "    \n",
    "    def __init__(self, marca, modelo):\n",
    "        super().__init__(marca, modelo)\n",
    "        \n",
    "    \n",
    "    def comprobarGasolina(self):\n",
    "        if (nivelGasolina == 0):\n",
    "            print(\"Nivel de gasolina muy bajo. \\n Por favor llene el tanque\")\n",
    "            \n",
    "        elif (nivelGasolina <= 2):\n",
    "            print(\" ¡Advertencia! \\n Niveles bajos de gasolina en tanque\")\n",
    "            \n",
    "        else:\n",
    "            print(\"El nivel de gasolina es aceptable. Puede continuar ...\")\n",
    "            \n",
    "    \n",
    "    def llenarTanque(self):\n",
    "        entrada = int(input(\"Ingrese el número de litros de gasol\"))\n",
    "    \n",
    "        \n",
    "    \n",
    "\n",
    "#-----------------------------------------------------\n",
    "\n",
    "# Creación de objetos\n",
    "    \n",
    "moto1 = Moto(\"Yamaha\", 2001)\n",
    "\n",
    "moto1.obtenerMarca()\n",
    "moto1.obtenerModelo()\n",
    "\n",
    "moto1.nivelGasolina"
   ]
  },
  {
   "cell_type": "code",
   "execution_count": null,
   "metadata": {},
   "outputs": [],
   "source": []
  }
 ],
 "metadata": {
  "kernelspec": {
   "display_name": "Python 3",
   "language": "python",
   "name": "python3"
  },
  "language_info": {
   "codemirror_mode": {
    "name": "ipython",
    "version": 3
   },
   "file_extension": ".py",
   "mimetype": "text/x-python",
   "name": "python",
   "nbconvert_exporter": "python",
   "pygments_lexer": "ipython3",
   "version": "3.8.3"
  }
 },
 "nbformat": 4,
 "nbformat_minor": 4
}
