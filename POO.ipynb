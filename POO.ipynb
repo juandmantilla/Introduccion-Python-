{
 "cells": [
  {
   "cell_type": "markdown",
   "metadata": {},
   "source": [
    "# Programación Orientado a Objetos\n",
    "\n",
    "POO por sus siglas es un paradigma de programación la cual se basa en estructurar elementos, o de otra manera, objetos de la vida real en un programa, obteniendo de ellos características representativas y que son útiles para la resolución de problemas.\n",
    "\n",
    "Un ejemplo básico es el objeto auto. Los autos pueden ser de diferentes fabricantes, colores, motor, etc. El objeto auto en la programación obtendrá estas propiedades (atributos) del mundo real junto con sus posibles comportamientos (métodos).\n",
    "\n",
    "Las ventajas del paradigma de programación orientada a objetos.\n",
    "* Capacidad de reutilizar código\n",
    "* Modularización (segmentación de código en partes fundamentales)\n",
    "* Mejor escritura de código\n"
   ]
  },
  {
   "cell_type": "markdown",
   "metadata": {},
   "source": [
    "## El concepto de Clase\n",
    "Una clase representa a un objeto, pero la clase funciona como un molde para crear distintos objetos pero con los mismos atributos y métodos que la rigen. Por ejemplo, de la clase Auto se pueden obtener dos objetos diferentes, el primero tendrá el color rojo en el chasis y dos puertas, y el segundo tendrá color azul en el chasis y 4 puertas.\n",
    "\n",
    "Como se había mencionado, a partir de la clase se pueden generar muchos objetos pertenecientes a dicha clase, por lo que se puede representar, a través de los objetos, problemas de la vida real."
   ]
  },
  {
   "cell_type": "code",
   "execution_count": 7,
   "metadata": {},
   "outputs": [
    {
     "name": "stdout",
     "output_type": "stream",
     "text": [
      "El color del auto es Negro con altura 1.6 y cilindraje de 20 Caballos\n"
     ]
    }
   ],
   "source": [
    "\n",
    "class Auto():  # <--- Las clases se nombran como. class seguido del nombre de la clase.\n",
    "    \n",
    "    #---------- Atributos de la clase --------\n",
    "    \n",
    "    color =  \"Negro\"\n",
    "    altura = 1.60\n",
    "    cilindraje = \"20 Caballos\"\n",
    "    numRuedas = 4\n",
    "    marca = \"Chevrolet\"\n",
    "    modelo = \"Spark Gt 2020\"\n",
    "    \n",
    "    # ----------------------------------------\n",
    "    \n",
    "    \n",
    "    #----------- Método de la clase ----------\n",
    "    # El o los métodos de la clase permiten al objeto realizar acciones u operaciones explícitas en la clase que lo contenga. \n",
    "    # A diferencia de las funciones, los métodos solo existen en las clases y sólo pueden ser accedidos por objetos intaciados\n",
    "    # de dicha clase. En cambio las funciones pueden ser llamadas o accedidas desde cualquier parte del programa.\n",
    "    \n",
    "    def encender(self):\n",
    "        pass\n",
    "    \n",
    "    #-----------------------------------------\n",
    "        \n",
    "\n",
    "miAuto = Auto()\n",
    "print(\"El color del auto es \" + miAuto.color + \" con altura \" + str(miAuto.altura) + \" y cilindraje de \" +  miAuto.cilindraje)"
   ]
  },
  {
   "cell_type": "markdown",
   "metadata": {},
   "source": [
    "## Generalizando la Clase\n",
    "Como se pudo observar la clase generará objetos Auto con los mismos atributos. Para cambiar esto se recurre a un método de la clase llamado Constructor, éste método se encarga de inicializar el objeto con los parámetros que se indiquen para su creación.\n"
   ]
  },
  {
   "cell_type": "code",
   "execution_count": 26,
   "metadata": {},
   "outputs": [
    {
     "name": "stdout",
     "output_type": "stream",
     "text": [
      "El color es Rojo la altura es 1.6 la marca es Ford el modelo es Gta - 2005. Y el auto está en modo : Apagado\n"
     ]
    }
   ],
   "source": [
    "class Auto():\n",
    "    color = 0\n",
    "    altura = 0\n",
    "    cilindraje = 0\n",
    "    numRuedas = 0\n",
    "    marca = 0\n",
    "    modelo = 0\n",
    "    encendido = 0\n",
    "    \n",
    "    def __init__(self, color, altura, cilindraje, numRuedas, marca, modelo):\n",
    "        self.color = color\n",
    "        self.altura = altura\n",
    "        self.cilindraje = cilindraje\n",
    "        self.numRuedas = numRuedas\n",
    "        self.marca = marca\n",
    "        self.modelo = modelo\n",
    "        self.encendido = False\n",
    "        \n",
    "    def encender (self, enceder):\n",
    "        if(self.encendido == False):\n",
    "            self.encendido = True\n",
    "            \n",
    "            \n",
    "    def conocerEstadoAuto(self):\n",
    "        if(self.encendido == False):\n",
    "            return \"Apagado\"\n",
    "        else:\n",
    "            return \"Encendido\"\n",
    "\n",
    "auto1 = Auto(\"Rojo\", 1.60, \"5 caballos\", 4, \"Ford\", \"Gta - 2005\")\n",
    "\n",
    "\n",
    "print(\"El color es \" + auto1.color + \" la altura es \" + str(auto1.altura) + \" la marca es \" + auto1.marca+\n",
    "     \" el modelo es \" + auto1.modelo + \". Y el auto está en modo : \" + auto1.conocerEstadoAuto())"
   ]
  },
  {
   "cell_type": "code",
   "execution_count": 18,
   "metadata": {},
   "outputs": [
    {
     "name": "stdout",
     "output_type": "stream",
     "text": [
      "entonces es falso-2\n"
     ]
    }
   ],
   "source": [
    "if(~True):\n",
    "    print(\"entonces es falso\" + str(~True))"
   ]
  },
  {
   "cell_type": "code",
   "execution_count": null,
   "metadata": {},
   "outputs": [],
   "source": []
  }
 ],
 "metadata": {
  "kernelspec": {
   "display_name": "Python 3",
   "language": "python",
   "name": "python3"
  },
  "language_info": {
   "codemirror_mode": {
    "name": "ipython",
    "version": 3
   },
   "file_extension": ".py",
   "mimetype": "text/x-python",
   "name": "python",
   "nbconvert_exporter": "python",
   "pygments_lexer": "ipython3",
   "version": "3.8.3"
  }
 },
 "nbformat": 4,
 "nbformat_minor": 4
}
